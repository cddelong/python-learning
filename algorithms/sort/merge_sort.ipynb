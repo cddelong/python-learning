{
 "cells": [
  {
   "cell_type": "markdown",
   "source": [
    "# Merge Sort\n",
    "Runtime: O(n log(n)) average and worst case.\n",
    "\n",
    "Memory: Depends\n",
    "### Algorithm:\n",
    "Merge sort divides the array in half, sorts each of those halves, and then merges them back together.\n",
    "Each of those halves has the same sorting algorithm applied to it.\n",
    "Eventually, you are merging just two single element arrays.\n",
    "\n",
    "It is the \"merge\" part that does all te heavy lifting.\n",
    "The merge method operates by copying all the elements from the target array segment into a helper array,\n",
    "keeping track of when the start of the left and the right halves should be (helperLeft and helperRight).\n",
    "We then iterate through helper, copying the smaller element from each half into the array.\n",
    "At the end, we copy any remaining elements into the target array\n",
    "\n",
    "\n",
    "### In pseudocode\n",
    "* sort the left half of the array (assuming n > 1)\n",
    "* sort the right half of the array (assuming n > 1)\n",
    "* merge the two halves together"
   ],
   "metadata": {
    "collapsed": false
   }
  },
  {
   "cell_type": "code",
   "execution_count": 11,
   "metadata": {
    "collapsed": true
   },
   "outputs": [],
   "source": [
    "from random import random\n",
    "_n = 10000\n",
    "# test_array = [int(random()*100) for _ in range(_n)]\n",
    "array_ = [5, 2, 1, 3, 6, 4]\n",
    "n_ = len(array_); high_=max(array_); low_=min(array_); middle_ = int(low_ + (high_ - low_) / 2)"
   ]
  },
  {
   "cell_type": "code",
   "execution_count": 19,
   "outputs": [
    {
     "name": "stdout",
     "output_type": "stream",
     "text": [
      "merging [5]\n",
      "merging [2]\n",
      "merging [1]\n",
      "merging [1, 2]\n",
      "merging [1, 2, 5]\n",
      "merging [3]\n",
      "merging [6]\n",
      "merging [4]\n",
      "merging [4, 6]\n",
      "merging [3, 4, 6]\n",
      "merging [1, 2, 3, 4, 5, 6]\n",
      "[1, 2, 3, 4, 5, 6]\n"
     ]
    }
   ],
   "source": [
    "# Mergesort\n",
    "# You need a \"base case\"\n",
    "#\n",
    "def merge_sort(arr):\n",
    "    from copy import copy\n",
    "    _arr = copy(arr)\n",
    "    _merge_sort(_arr)\n",
    "    return _arr\n",
    "\n",
    "def _merge_sort(arr: list):\n",
    "    n = len(arr)\n",
    "    if n > 1:\n",
    "        middle = n // 2; left_half = arr[:middle]; right_half = arr[middle:]\n",
    "        _merge_sort(left_half)\n",
    "        _merge_sort(right_half)\n",
    "        i=0\n",
    "        j=0\n",
    "        k=0\n",
    "\n",
    "        while i < len(left_half) and j < len(right_half):\n",
    "            if left_half[i] <= right_half[j]:\n",
    "                arr[k] = left_half[i]\n",
    "                i+=1\n",
    "            else:\n",
    "                arr[k] = right_half[j]\n",
    "                j+=1\n",
    "            k+=1\n",
    "\n",
    "        while i < len(left_half):\n",
    "            arr[k]=left_half[i]\n",
    "            i+=1\n",
    "            k+=1\n",
    "\n",
    "        while j < len(right_half):\n",
    "            arr[k]=right_half[j]\n",
    "            j+=1\n",
    "            k+=1\n",
    "    print(f'merging {arr}')\n",
    "\n",
    "from copy import copy\n",
    "\n",
    "result_array = merge_sort(array_)\n",
    "print(result_array)"
   ],
   "metadata": {
    "collapsed": false,
    "pycharm": {
     "name": "#%%\n"
    }
   }
  },
  {
   "cell_type": "code",
   "execution_count": 2,
   "outputs": [],
   "source": [
    "def fact(n: int):\n",
    "    \"\"\"\n",
    "    Multiply all of the positive integers less than or equal to n, multiplied together\n",
    "    :param n:\n",
    "    :return:\n",
    "    \"\"\"\n",
    "    if n == 1:\n",
    "        return 1\n",
    "    else:\n",
    "        return n * fact(n-1)"
   ],
   "metadata": {
    "collapsed": false,
    "pycharm": {
     "name": "#%%\n"
    }
   }
  },
  {
   "cell_type": "code",
   "execution_count": 4,
   "outputs": [],
   "source": [
    "from math import factorial\n",
    "\n",
    "x = 1000\n",
    "assert fact(x) == factorial(x)\n",
    "\n"
   ],
   "metadata": {
    "collapsed": false,
    "pycharm": {
     "name": "#%%\n"
    }
   }
  }
 ],
 "metadata": {
  "kernelspec": {
   "display_name": "Python 3",
   "language": "python",
   "name": "python3"
  },
  "language_info": {
   "codemirror_mode": {
    "name": "ipython",
    "version": 2
   },
   "file_extension": ".py",
   "mimetype": "text/x-python",
   "name": "python",
   "nbconvert_exporter": "python",
   "pygments_lexer": "ipython2",
   "version": "2.7.6"
  }
 },
 "nbformat": 4,
 "nbformat_minor": 0
}