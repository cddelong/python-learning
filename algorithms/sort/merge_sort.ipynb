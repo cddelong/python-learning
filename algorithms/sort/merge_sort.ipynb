{
 "cells": [
  {
   "cell_type": "markdown",
   "source": [
    "# Merge Sort\n",
    "Runtime: O(n log(n)) average and worst case.\n",
    "\n",
    "Memory: Depends\n",
    "### Algorithm:\n",
    "Merge sort divides the array in half, sorts each of those halves, and then merges them back together.\n",
    "Each of those halves has the same sorting algorithm applied to it.\n",
    "Eventually, you are merging just two single element arrays.\n",
    "\n",
    "It is the \"merge\" part that does all te heavy lifting.\n",
    "The merge method operates by copying all the elements from the target array segment into a helper array,\n",
    "keeping track of when the start of the left and the right halves should be (helperLeft and helperRight).\n",
    "We then iterate through helper, copying the smaller element from each half into the array.\n",
    "At the end, we copy any remaining elements into the target array\n",
    "\n",
    "\n",
    "### In pseudocode\n",
    "* sort the left half of the array (assuming n > 1)\n",
    "* sort the right half of the array (assuming n > 1)\n",
    "* merge the two halves together"
   ],
   "metadata": {
    "collapsed": false
   }
  },
  {
   "cell_type": "code",
   "execution_count": 2,
   "metadata": {
    "collapsed": true
   },
   "outputs": [],
   "source": [
    "from random import random\n",
    "n = 6\n",
    "# test_array = [int(random()*100) for _ in range(_n)]\n",
    "array_ = [5, 2, 1, 3, 6, 4]\n"
   ]
  },
  {
   "cell_type": "code",
   "execution_count": 3,
   "outputs": [
    {
     "name": "stdout",
     "output_type": "stream",
     "text": [
      "[1, 2, 3, 4, 5, 6]\n"
     ]
    }
   ],
   "source": [
    "# Mergesort\n",
    "# You need a \"base case\"\n",
    "#\n",
    "def merge_sort(arr: list):\n",
    "    if len(arr) <= 1:\n",
    "        # if the array length is less than or equal to 1 then it is sorted already\n",
    "        return arr\n",
    "    else:\n",
    "        middle_index = len(arr) // 2; list_a = arr[middle_index:]; list_b = arr[:middle_index]\n",
    "\n",
    "        list_a = merge_sort(list_a)\n",
    "        list_b = merge_sort(list_b)\n",
    "\n",
    "        index_a = 0; index_b = 0; sorted_arr = []\n",
    "        while index_a < len(list_a) or index_b < len(list_b):\n",
    "            if index_a == len(list_a):\n",
    "                sorted_arr.append(list_b[index_b])\n",
    "                index_b +=1\n",
    "                continue\n",
    "            if index_b == len(list_b):\n",
    "                sorted_arr.append(list_a[index_a])\n",
    "                index_a += 1\n",
    "                continue\n",
    "            if list_a[index_a] <= list_b[index_b]:\n",
    "                sorted_arr.append(list_a[index_a])\n",
    "                index_a += 1\n",
    "            else:\n",
    "                sorted_arr.append(list_b[index_b])\n",
    "                index_b += 1\n",
    "        return sorted_arr\n",
    "\n",
    "\n",
    "result_array = merge_sort(array_)\n",
    "print(result_array)"
   ],
   "metadata": {
    "collapsed": false,
    "pycharm": {
     "name": "#%%\n"
    }
   }
  },
  {
   "cell_type": "code",
   "execution_count": 2,
   "outputs": [],
   "source": [
    "def fact(n: int):\n",
    "    \"\"\"\n",
    "    Multiply all of the positive integers less than or equal to n, multiplied together\n",
    "    :param n:\n",
    "    :return:\n",
    "    \"\"\"\n",
    "    if n == 1:\n",
    "        return 1\n",
    "    else:\n",
    "        return n * fact(n-1)"
   ],
   "metadata": {
    "collapsed": false,
    "pycharm": {
     "name": "#%%\n"
    }
   }
  },
  {
   "cell_type": "code",
   "execution_count": 4,
   "outputs": [],
   "source": [
    "from math import factorial\n",
    "\n",
    "x = 1000\n",
    "assert fact(x) == factorial(x)\n",
    "\n"
   ],
   "metadata": {
    "collapsed": false,
    "pycharm": {
     "name": "#%%\n"
    }
   }
  }
 ],
 "metadata": {
  "kernelspec": {
   "display_name": "Python 3",
   "language": "python",
   "name": "python3"
  },
  "language_info": {
   "codemirror_mode": {
    "name": "ipython",
    "version": 2
   },
   "file_extension": ".py",
   "mimetype": "text/x-python",
   "name": "python",
   "nbconvert_exporter": "python",
   "pygments_lexer": "ipython2",
   "version": "2.7.6"
  }
 },
 "nbformat": 4,
 "nbformat_minor": 0
}