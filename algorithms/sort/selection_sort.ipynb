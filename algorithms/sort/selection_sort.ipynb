{
 "cells": [
  {
   "cell_type": "markdown",
   "metadata": {
    "collapsed": true,
    "pycharm": {
     "name": "#%% md\n"
    }
   },
   "source": [
    "# Selection Sort\n",
    "Runtime: O(n^2) average and worst case.\n",
    "\n",
    "Memory: O(1)\n",
    "### Algorithm:\n",
    "Selection sort is the child's algorithm: simple, but inefficient. Find the smallest element using a linear scan and move it to the front (swapping it with the front element). Then find the second smallest and move it, again doing a linear scan. Continu doing this until all the elements are in place.\n",
    "\n",
    "### In pseudocode\n",
    "* Repeat until no unsorted elements remain\n",
    "    * search the unsorted part of the data to find the smallest value\n",
    "    * Swap the smallest found value with the first element of the unsorted part"
   ]
  },
  {
   "cell_type": "code",
   "execution_count": 2,
   "metadata": {
    "pycharm": {
     "name": "#%%\n"
    }
   },
   "outputs": [],
   "source": [
    "import timeit\n",
    "from algorithms.sort import test_array\n",
    "# n = 10000\n",
    "# test_array = [int(random()*100) for _ in range(n)]\n",
    "# test_array = [5, 2, 1, 3, 6, 4]"
   ]
  },
  {
   "cell_type": "code",
   "execution_count": 3,
   "metadata": {
    "pycharm": {
     "name": "#%%\n"
    }
   },
   "outputs": [],
   "source": [
    "def find_smallest(arr: list):\n",
    "\n",
    "    \"\"\"\n",
    "    Takes a list of numbers returns the smallest one with it's index\n",
    "    :param arr:\n",
    "    :return:\n",
    "    \"\"\"\n",
    "    lowest_val_index = None\n",
    "    lowest_value = 2**31-1\n",
    "    for index, value in enumerate(arr):\n",
    "        if value < lowest_value:\n",
    "            lowest_value = value; lowest_val_index=index\n",
    "    return lowest_val_index, lowest_value\n",
    "\n",
    "def swap(arr, index_a, index_b):\n",
    "    \"\"\"\n",
    "    swaps the values at the provided indecies\n",
    "    :param arr:\n",
    "    :param index_a:\n",
    "    :param index_b:\n",
    "    :return :\n",
    "    \"\"\"\n",
    "    value_a = arr[index_a]\n",
    "    arr[index_a] = arr[index_b]\n",
    "    arr[index_b] = value_a\n",
    "    return arr\n",
    "\n",
    "def selection_sort(array: list):\n",
    "    array = copy(array)\n",
    "    n = len(array)\n",
    "    for index, value in enumerate(array):\n",
    "        # array[index:] is the unsorted portion of the array\n",
    "        smallest = find_smallest(array[index:])\n",
    "        sm_index = smallest[0] + index\n",
    "        swap(array, index, sm_index)\n",
    "    return array\n",
    "\n",
    "\n",
    "def time_it(func, args):\n",
    "    from datetime import datetime\n",
    "    start = datetime.now()\n",
    "    result = func(args)\n",
    "    end = datetime.now()\n",
    "    return (end-start), result\n",
    "\n"
   ]
  },
  {
   "cell_type": "code",
   "execution_count": 4,
   "metadata": {
    "pycharm": {
     "name": "#%%\n"
    }
   },
   "outputs": [],
   "source": [
    "from copy import copy\n",
    "result = time_it(selection_sort, test_array)\n",
    "result\n",
    "sorted_res = time_it(sorted, test_array)\n",
    "sorted_res\n",
    "assert sorted_res[1] == result[1]\n"
   ]
  }
 ],
 "metadata": {
  "kernelspec": {
   "display_name": "Python 3",
   "language": "python",
   "name": "python3"
  },
  "language_info": {
   "codemirror_mode": {
    "name": "ipython",
    "version": 3
   },
   "file_extension": ".py",
   "mimetype": "text/x-python",
   "name": "python",
   "nbconvert_exporter": "python",
   "pygments_lexer": "ipython3",
   "version": "3.9.0"
  }
 },
 "nbformat": 4,
 "nbformat_minor": 1
}