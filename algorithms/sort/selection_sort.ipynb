{
 "cells": [
  {
   "cell_type": "markdown",
   "metadata": {
    "collapsed": true,
    "pycharm": {
     "name": "#%% md\n"
    }
   },
   "source": [
    "# Selection Sort\n",
    "Runtime: O(n^2) average and worst case.\n",
    "\n",
    "Memory: O(1)\n",
    "### Algorithm:\n",
    "Selection sort is the child's algorithm: simple, but inefficient. Find the smallest element using a linear scan and move it to the front (swapping it with the front element). Then find the second smallest and move it, again doing a linear scan. Continu doing this until all the elements are in place.\n",
    "\n",
    "### In pseudocode\n",
    "* Repeat until no unsorted elements remain\n",
    "    * search the unsorted part of the data to find the smallest value\n",
    "    * Swap the smallest found value with the first element of the unsorted part"
   ]
  },
  {
   "cell_type": "code",
   "execution_count": 131,
   "metadata": {
    "pycharm": {
     "name": "#%%\n"
    }
   },
   "outputs": [],
   "source": [
    "from random import random\n",
    "n = 10\n",
    "# test_array = [int(random()*10) for _ in range(n)]\n",
    "test_array = [1, 2, 3, 4, 5]"
   ]
  },
  {
   "cell_type": "code",
   "execution_count": 140,
   "metadata": {
    "pycharm": {
     "name": "#%%\n"
    }
   },
   "outputs": [],
   "source": [
    "from copy import copy\n",
    "def selection_sort(array: list):\n",
    "    n = len(array)\n",
    "    return array"
   ]
  },
  {
   "cell_type": "code",
   "execution_count": 139,
   "metadata": {
    "pycharm": {
     "name": "#%%\n"
    }
   },
   "outputs": [
    {
     "data": {
      "text/plain": [
       "[3, 4, 5]"
      ]
     },
     "execution_count": 139,
     "metadata": {},
     "output_type": "execute_result"
    }
   ],
   "source": [
    "result = selection_sort(copy(test_array))\n",
    "result\n",
    "var =result[2:]\n",
    "var\n",
    "\n",
    "\n"
   ]
  }
 ],
 "metadata": {
  "kernelspec": {
   "display_name": "Python 3",
   "language": "python",
   "name": "python3"
  },
  "language_info": {
   "codemirror_mode": {
    "name": "ipython",
    "version": 3
   },
   "file_extension": ".py",
   "mimetype": "text/x-python",
   "name": "python",
   "nbconvert_exporter": "python",
   "pygments_lexer": "ipython3",
   "version": "3.9.0"
  }
 },
 "nbformat": 4,
 "nbformat_minor": 1
}