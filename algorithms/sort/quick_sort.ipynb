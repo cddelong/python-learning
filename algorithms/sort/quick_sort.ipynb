{
 "cells": [
  {
   "cell_type": "markdown",
   "source": [
    "# Quicksort\n",
    "### Runtime:\n",
    "* Average: O(n log(n) )\n",
    "* Worst Case: O( n**2 )\n",
    "\n",
    "### Memory:\n",
    "* O(log(n))\n",
    "\n",
    "### Algorithm\n",
    "In quick sort, we pick a random element and partition the array, such that all numbers that are less than the partitioning element come before all elements that are greater than it. The partitioning can be performed efficiently through a series of swaps.\n",
    "\n",
    "If we repeatedly partition the array (and it's sub arrays) around an element, the array will eventually become sorted. However, as the partitioned element is not guaranteed to be the median (or anywhere near the median), our sorting could be very slow. This is the reason for the O(n**2) worst case run time.\n",
    "\n",
    "### Pseudocode\n",
    "* select a random element and store this as your pivot\n"
   ],
   "metadata": {
    "collapsed": false
   }
  },
  {
   "cell_type": "code",
   "execution_count": 1,
   "outputs": [],
   "source": [
    "from algorithms.sort import n, test_array, simple_array\n",
    "from random import random\n",
    "from array import array\n"
   ],
   "metadata": {
    "collapsed": false,
    "pycharm": {
     "name": "#%%\n"
    }
   }
  },
  {
   "cell_type": "code",
   "execution_count": 2,
   "outputs": [],
   "source": [
    "def swap(arr, index_a, index_b):\n",
    "    element = arr[index_a]\n",
    "    arr[index_a] = arr[index_b]\n",
    "    arr[index_b] = element\n",
    "\n",
    "def quick_sort(arr):\n",
    "    n = len(arr)\n",
    "\n",
    "    if type(arr) is list:\n",
    "        _arr = array('i')\n",
    "        [_arr.append(v) for v in arr]\n",
    "        arr = _arr\n",
    "\n",
    "    if n <= 1:\n",
    "        return arr\n",
    "    else:\n",
    "        current_location = 0\n",
    "        pivot_value = arr[current_location]\n",
    "\n",
    "        for index in range(1, n):\n",
    "            if arr[index] <= pivot_value:\n",
    "                current_location += 1\n",
    "                swap(arr, current_location, index)\n",
    "\n",
    "        swap(arr, current_location, 0)\n",
    "        return quick_sort(arr[:current_location]) + array('i', [pivot_value]) + quick_sort(arr[current_location+1:])\n",
    "\n"
   ],
   "metadata": {
    "collapsed": false,
    "pycharm": {
     "name": "#%%\n"
    }
   }
  },
  {
   "cell_type": "code",
   "execution_count": 6,
   "outputs": [
    {
     "name": "stdout",
     "output_type": "stream",
     "text": [
      "array('i', [1, 2, 3, 4, 5, 6])\n"
     ]
    }
   ],
   "source": [
    "print(quick_sort(simple_array))\n"
   ],
   "metadata": {
    "collapsed": false,
    "pycharm": {
     "name": "#%%\n"
    }
   }
  }
 ],
 "metadata": {
  "kernelspec": {
   "display_name": "Python 3",
   "language": "python",
   "name": "python3"
  },
  "language_info": {
   "codemirror_mode": {
    "name": "ipython",
    "version": 2
   },
   "file_extension": ".py",
   "mimetype": "text/x-python",
   "name": "python",
   "nbconvert_exporter": "python",
   "pygments_lexer": "ipython2",
   "version": "2.7.6"
  }
 },
 "nbformat": 4,
 "nbformat_minor": 0
}